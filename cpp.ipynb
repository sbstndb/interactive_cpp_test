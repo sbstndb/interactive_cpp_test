{
 "cells": [
  {
   "cell_type": "markdown",
   "id": "baf786c8-a865-4637-adad-3fb2594fc163",
   "metadata": {},
   "source": [
    "# First test of jupiter Notebook + Xeus for interactive C++\n",
    "## "
   ]
  },
  {
   "cell_type": "markdown",
   "id": "8040bfde-16c5-4728-8b20-a325d571c077",
   "metadata": {},
   "source": [
    "You can define headers for the project : "
   ]
  },
  {
   "cell_type": "code",
   "execution_count": 1,
   "id": "80171fa3-60a7-4d2e-8e11-f873db4bfe3f",
   "metadata": {},
   "outputs": [],
   "source": [
    "#include <iostream>\n",
    "#include <vector>\n",
    "using namespace std ; "
   ]
  },
  {
   "cell_type": "markdown",
   "id": "dc9fcfb3-5f67-45ee-8af2-5927b21a23bd",
   "metadata": {},
   "source": [
    "You also can build functions as usual :"
   ]
  },
  {
   "cell_type": "code",
   "execution_count": 2,
   "id": "ace7ad36-1c0b-4905-98f2-eb9f9d6c9703",
   "metadata": {},
   "outputs": [],
   "source": [
    "template <typename T>\n",
    "T\n",
    "sum( T a, T b){\n",
    "    return a+b ; \n",
    "}"
   ]
  },
  {
   "cell_type": "markdown",
   "id": "1cb368ec-8b71-4451-9c1c-7e751fe03e3c",
   "metadata": {},
   "source": [
    "hence you just can call and print it !"
   ]
  },
  {
   "cell_type": "code",
   "execution_count": 3,
   "id": "08ffad5a-3435-4bd2-a803-e35ebbf1abb9",
   "metadata": {},
   "outputs": [
    {
     "name": "stdout",
     "output_type": "stream",
     "text": [
      "3\n",
      "7.2"
     ]
    }
   ],
   "source": [
    "cout << sum(1,2) ;\n",
    "cout << endl ;\n",
    "cout << sum(2.0, 5.2) ; "
   ]
  },
  {
   "cell_type": "markdown",
   "id": "2349695c-ce4f-460a-a11c-c03b551de5f1",
   "metadata": {},
   "source": [
    "## Equations\n",
    "You can write mathematic equations like this : \n"
   ]
  },
  {
   "cell_type": "markdown",
   "id": "57660eed-2d68-4446-b29c-df54c8550102",
   "metadata": {},
   "source": [
    "$$\n",
    "  \\int_0^\\infty \\frac{x^3}{e^x-1}\\,dx = \\frac{\\pi^4}{15}\n",
    "$$"
   ]
  },
  {
   "cell_type": "code",
   "execution_count": null,
   "id": "33d4062e-124a-43d9-b216-96187f0c1a4a",
   "metadata": {},
   "outputs": [],
   "source": []
  }
 ],
 "metadata": {
  "kernelspec": {
   "display_name": "C++17",
   "language": "C++17",
   "name": "xcpp17"
  },
  "language_info": {
   "codemirror_mode": "text/x-c++src",
   "file_extension": ".cpp",
   "mimetype": "text/x-c++src",
   "name": "c++",
   "version": "17"
  }
 },
 "nbformat": 4,
 "nbformat_minor": 5
}
